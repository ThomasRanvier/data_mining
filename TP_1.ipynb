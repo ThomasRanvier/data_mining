{
 "cells": [
  {
   "cell_type": "markdown",
   "metadata": {},
   "source": [
    "## TP 1 - data mining - Thomas Ranvier, Nicolas Désilets"
   ]
  },
  {
   "cell_type": "markdown",
   "metadata": {},
   "source": [
    "Setup et chargement des datasets"
   ]
  },
  {
   "cell_type": "code",
   "execution_count": 114,
   "metadata": {},
   "outputs": [],
   "source": [
    "import numpy as np\n",
    "import matplotlib.pyplot as plt\n",
    "from scipy.spatial.distance import jaccard\n",
    "\n",
    "%matplotlib inline\n",
    "\n",
    "datasets_names = ['chess', 'connect', 'mushroom', 'pumsb', 'pumsb_star', 'small', 'retail', 'kosarak']\n",
    "datasets = {}\n",
    "\n",
    "for name in datasets_names:\n",
    "    temp_str = [i.strip().split() for i in open('datasets/' + name + '.dat').readlines()]\n",
    "    datasets[name] = [list(map(int, line)) for line in temp_str]"
   ]
  },
  {
   "cell_type": "markdown",
   "metadata": {},
   "source": [
    "## 1.\n",
    "\n",
    "#### Implémentation de l'algorithme d'échantillonage des motifs fréquents"
   ]
  },
  {
   "cell_type": "code",
   "execution_count": 117,
   "metadata": {},
   "outputs": [],
   "source": [
    "#Part of the algorithm that needs to be run each time\n",
    "def freq_sampling(dataset, w, normalised_w):\n",
    "    random_pattern_index = np.random.choice(len(dataset), p=normalised_w)#2.\n",
    "    return [attr for attr in dataset[random_pattern_index] if np.random.randint(2)]#3.\n",
    "\n",
    "#Function that runs the algorithm k times\n",
    "def freq_sampling_k(dataset, k):\n",
    "    patterns = []\n",
    "    #We create the weights out of the loop so it takes less time overall\n",
    "    w = [2**abs(len(motif)) for motif in dataset]#1.\n",
    "    normalised_w = [i / sum(w) for i in w]\n",
    "    done = False\n",
    "    for _ in range(k):\n",
    "        patterns.append(tuple(freq_sampling(dataset, w, normalised_w)))\n",
    "    return patterns\n",
    "\n",
    "#Function that runs the algo for all loaded datasets, except kosarak and retail\n",
    "def freq_sampling_all_datasets(k):\n",
    "    patterns_freq = {}\n",
    "    for dataset_name in datasets:\n",
    "        if dataset_name != 'kosarak' and dataset_name != 'retail':\n",
    "            patterns_freq[dataset_name] = freq_sampling_k(datasets[dataset_name], k)\n",
    "            print('dataset ' + dataset_name + ' done')\n",
    "    return patterns_freq"
   ]
  },
  {
   "cell_type": "markdown",
   "metadata": {},
   "source": [
    "## 2.\n",
    "\n",
    "#### Implémentation de l'algorithme d'échantillonage basé sur l'aire"
   ]
  },
  {
   "cell_type": "code",
   "execution_count": 116,
   "metadata": {},
   "outputs": [],
   "source": [
    "def area_sampling(dataset, w, normalised_w):\n",
    "    random_pattern_index = np.random.choice(len(dataset), p=normalised_w)#2.\n",
    "    k_range = list(range(1, len(dataset[random_pattern_index]) + 1))#weights id(i) = i\n",
    "    normalised_k_range = [i / sum(k_range) for i in k_range]\n",
    "    k = np.random.choice(k_range, p=normalised_k_range)#3.\n",
    "    return sorted(np.random.choice(dataset[random_pattern_index], size=k, replace=False))#4.\n",
    "\n",
    "#Function that runs the algorithm k times\n",
    "def area_sampling_k(dataset, k):\n",
    "    patterns = []\n",
    "    #We create the weights out of the loop so it takes less time overall\n",
    "    w = [abs(len(motif))*(2**(abs(len(motif)) - 1)) for motif in dataset]#1.\n",
    "    normalised_w = [i / sum(w) for i in w]\n",
    "    for _ in range(k):\n",
    "        patterns.append(tuple(area_sampling(dataset, w, normalised_w)))\n",
    "    return patterns\n",
    "\n",
    "#Function that runs the algo for all loaded datasets, except kosarak and retail\n",
    "def area_sampling_all_datasets(k):\n",
    "    patterns_area = {}\n",
    "    for dataset_name in datasets:\n",
    "        if dataset_name != 'kosarak' and dataset_name != 'retail':\n",
    "            patterns_area[dataset_name] = freq_sampling_k(datasets[dataset_name], k)\n",
    "            print('dataset ' + dataset_name + ' done')\n",
    "    return patterns_area"
   ]
  },
  {
   "cell_type": "markdown",
   "metadata": {},
   "source": [
    "Exécution des algos des questions 1 et 2, pour tous les datasets chargés et 1000 itérations à chaque fois"
   ]
  },
  {
   "cell_type": "code",
   "execution_count": 118,
   "metadata": {},
   "outputs": [
    {
     "name": "stdout",
     "output_type": "stream",
     "text": [
      "dataset chess done\n",
      "dataset connect done\n",
      "dataset mushroom done\n",
      "dataset pumsb done\n",
      "dataset pumsb_star done\n",
      "dataset small done\n"
     ]
    }
   ],
   "source": [
    "sampled_patterns_freq = freq_sampling_all_datasets(1000)"
   ]
  },
  {
   "cell_type": "code",
   "execution_count": 5,
   "metadata": {},
   "outputs": [
    {
     "name": "stdout",
     "output_type": "stream",
     "text": [
      "dataset chess done\n",
      "dataset connect done\n",
      "dataset mushroom done\n",
      "dataset pumsb done\n",
      "dataset pumsb_star done\n",
      "dataset small done\n"
     ]
    }
   ],
   "source": [
    "sampled_patterns_area = area_sampling_all_datasets(1000)"
   ]
  },
  {
   "cell_type": "markdown",
   "metadata": {},
   "source": [
    "## 3.\n",
    "\n",
    "#### Implémentation de la fonction qui, donné un ensemble de motifs extraits et le dataset correspondant, renvoie la fréquence de chaque motif\n",
    "\n",
    "La fonction 'pattern_freq' calcule la fréquence d'apparition du pattern donné au sein du dataset dont il est extrait."
   ]
  },
  {
   "cell_type": "code",
   "execution_count": 119,
   "metadata": {},
   "outputs": [],
   "source": [
    "def pattern_freq(pattern, dataset):\n",
    "    freq = .0\n",
    "    for p in dataset:\n",
    "        appears_in_p = True\n",
    "        for attr in pattern:\n",
    "            if attr not in p:\n",
    "                appears_in_p = False\n",
    "                break\n",
    "        if appears_in_p:\n",
    "            freq += 1.\n",
    "    return freq / len(dataset)\n",
    "\n",
    "def patterns_freq(patterns, dataset):\n",
    "    result = {}\n",
    "    for pattern in patterns:\n",
    "        result[pattern] = pattern_freq(pattern, dataset)\n",
    "    return result"
   ]
  },
  {
   "cell_type": "markdown",
   "metadata": {},
   "source": [
    "#### Implémentation de la fonction qui, donné un ensemble de motifs extraits et le dataset correspondant, renvoie l'aire de chaque motif"
   ]
  },
  {
   "cell_type": "code",
   "execution_count": 120,
   "metadata": {},
   "outputs": [],
   "source": [
    "def patterns_area(p_f):\n",
    "    p_a = {}\n",
    "    for i in p_f.items():\n",
    "        p_a[i[0]] = i[1] * len(i[0])\n",
    "    return p_a"
   ]
  },
  {
   "cell_type": "markdown",
   "metadata": {},
   "source": [
    "## 5.\n",
    "\n",
    "#### Affichage des distributions pour 5 datasets et 1000 réalisations"
   ]
  },
  {
   "cell_type": "code",
   "execution_count": 121,
   "metadata": {},
   "outputs": [],
   "source": [
    "def display_distributions(sampled_patterns, dataset_name):\n",
    "    p_f = patterns_freq(sampled_patterns, datasets[dataset_name])\n",
    "    p_a = patterns_area(p_f)\n",
    "    fig, (ax1, ax2) = plt.subplots(1, 2,figsize=(14, 5))\n",
    "    ax1.hist(list(p_f.values()), bins=60)\n",
    "    ax1.set_title('Histogramme des fréquences')\n",
    "    ax2.hist(list(p_a.values()), bins=60)\n",
    "    ax2.set_title('Histogramme des aires')"
   ]
  },
  {
   "cell_type": "markdown",
   "metadata": {},
   "source": [
    "## Dataset : chess\n",
    "\n",
    "Affichage des distributions de fréquence et d'aires pour les patterns extraits du dataset 'chess' par l'algorithme 1"
   ]
  },
  {
   "cell_type": "code",
   "execution_count": 122,
   "metadata": {
    "scrolled": false
   },
   "outputs": [
    {
     "data": {
      "image/png": "[encoded data removed]",
      "text/plain": [
       "<Figure size 1008x360 with 2 Axes>"
      ]
     },
     "metadata": {
      "needs_background": "light"
     },
     "output_type": "display_data"
    }
   ],
   "source": [
    "display_distributions(list(set(sampled_patterns_freq['chess'])), 'chess')"
   ]
  },
  {
   "cell_type": "markdown",
   "metadata": {},
   "source": [
    "Affichage des distributions de fréquence et d'aires pour les patterns extraits du dataset 'chess' par l'algorithme 2"
   ]
  },
  {
   "cell_type": "code",
   "execution_count": 95,
   "metadata": {},
   "outputs": [
    {
     "data": {
      "image/png": "[encoded data removed]",
      "text/plain": [
       "<Figure size 1008x360 with 2 Axes>"
      ]
     },
     "metadata": {
      "needs_background": "light"
     },
     "output_type": "display_data"
    }
   ],
   "source": [
    "display_distributions(list(set(sampled_patterns_area['chess'])), 'chess')"
   ]
  },
  {
   "cell_type": "markdown",
   "metadata": {},
   "source": [
    "## Dataset : connect\n",
    "\n",
    "Affichage des distributions de fréquence et d'aires pour les patterns extraits du dataset 'connect' par l'algorithme 1"
   ]
  },
  {
   "cell_type": "code",
   "execution_count": 96,
   "metadata": {},
   "outputs": [
    {
     "data": {
      "image/png": "[encoded data removed]",
      "text/plain": [
       "<Figure size 1008x360 with 2 Axes>"
      ]
     },
     "metadata": {
      "needs_background": "light"
     },
     "output_type": "display_data"
    }
   ],
   "source": [
    "display_distributions(list(set(sampled_patterns_freq['connect'])), 'connect')"
   ]
  },
  {
   "cell_type": "markdown",
   "metadata": {},
   "source": [
    "Affichage des distributions de fréquence et d'aires pour les patterns extraits du dataset 'connect' par l'algorithme 2"
   ]
  },
  {
   "cell_type": "code",
   "execution_count": 97,
   "metadata": {},
   "outputs": [
    {
     "data": {
      "image/png": "[encoded data removed]",
      "text/plain": [
       "<Figure size 1008x360 with 2 Axes>"
      ]
     },
     "metadata": {
      "needs_background": "light"
     },
     "output_type": "display_data"
    }
   ],
   "source": [
    "display_distributions(list(set(sampled_patterns_area['connect'])), 'connect')"
   ]
  },
  {
   "cell_type": "markdown",
   "metadata": {},
   "source": [
    "## Dataset : mushroom\n",
    "\n",
    "Affichage des distributions de fréquence et d'aires pour les patterns extraits du dataset 'mushroom' par l'algorithme 1"
   ]
  },
  {
   "cell_type": "code",
   "execution_count": 98,
   "metadata": {},
   "outputs": [
    {
     "data": {
      "image/png": "[encoded data removed]",
      "text/plain": [
       "<Figure size 1008x360 with 2 Axes>"
      ]
     },
     "metadata": {
      "needs_background": "light"
     },
     "output_type": "display_data"
    }
   ],
   "source": [
    "display_distributions(list(set(sampled_patterns_freq['mushroom'])), 'mushroom')"
   ]
  },
  {
   "cell_type": "markdown",
   "metadata": {},
   "source": [
    "Affichage des distributions de fréquence et d'aires pour les patterns extraits du dataset 'mushroom' par l'algorithme 2"
   ]
  },
  {
   "cell_type": "code",
   "execution_count": 99,
   "metadata": {},
   "outputs": [
    {
     "data": {
      "image/png": "[encoded data removed]",
      "text/plain": [
       "<Figure size 1008x360 with 2 Axes>"
      ]
     },
     "metadata": {
      "needs_background": "light"
     },
     "output_type": "display_data"
    }
   ],
   "source": [
    "display_distributions(list(set(sampled_patterns_area['mushroom'])), 'mushroom')"
   ]
  },
  {
   "cell_type": "markdown",
   "metadata": {},
   "source": [
    "## Dataset : pumsb\n",
    "\n",
    "Affichage des distributions de fréquence et d'aires pour les patterns extraits du dataset 'pumsb' par l'algorithme 1"
   ]
  },
  {
   "cell_type": "code",
   "execution_count": 100,
   "metadata": {},
   "outputs": [
    {
     "data": {
      "image/png": "[encoded data removed]",
      "text/plain": [
       "<Figure size 1008x360 with 2 Axes>"
      ]
     },
     "metadata": {
      "needs_background": "light"
     },
     "output_type": "display_data"
    }
   ],
   "source": [
    "display_distributions(list(set(sampled_patterns_freq['pumsb'])), 'pumsb')"
   ]
  },
  {
   "cell_type": "markdown",
   "metadata": {},
   "source": [
    "Affichage des distributions de fréquence et d'aires pour les patterns extraits du dataset 'pumsb' par l'algorithme 2"
   ]
  },
  {
   "cell_type": "code",
   "execution_count": 101,
   "metadata": {},
   "outputs": [
    {
     "data": {
      "image/png": "[encoded data removed]",
      "text/plain": [
       "<Figure size 1008x360 with 2 Axes>"
      ]
     },
     "metadata": {
      "needs_background": "light"
     },
     "output_type": "display_data"
    }
   ],
   "source": [
    "display_distributions(list(set(sampled_patterns_area['pumsb'])), 'pumsb')"
   ]
  },
  {
   "cell_type": "markdown",
   "metadata": {},
   "source": [
    "## Dataset : pumsb_star\n",
    "\n",
    "Affichage des distributions de fréquence et d'aires pour les patterns extraits du dataset 'pumsb_star' par l'algorithme 1"
   ]
  },
  {
   "cell_type": "code",
   "execution_count": 102,
   "metadata": {},
   "outputs": [
    {
     "data": {
      "image/png": "[encoded data removed]",
      "text/plain": [
       "<Figure size 1008x360 with 2 Axes>"
      ]
     },
     "metadata": {
      "needs_background": "light"
     },
     "output_type": "display_data"
    }
   ],
   "source": [
    "display_distributions(list(set(sampled_patterns_freq['pumsb_star'])), 'pumsb_star')"
   ]
  },
  {
   "cell_type": "markdown",
   "metadata": {},
   "source": [
    "Affichage des distributions de fréquence et d'aires pour les patterns extraits du dataset 'pumsb_star' par l'algorithme 2"
   ]
  },
  {
   "cell_type": "code",
   "execution_count": 103,
   "metadata": {},
   "outputs": [
    {
     "data": {
      "image/png": "[encoded data removed]",
      "text/plain": [
       "<Figure size 1008x360 with 2 Axes>"
      ]
     },
     "metadata": {
      "needs_background": "light"
     },
     "output_type": "display_data"
    }
   ],
   "source": [
    "display_distributions(list(set(sampled_patterns_area['pumsb_star'])), 'pumsb_star')"
   ]
  },
  {
   "cell_type": "markdown",
   "metadata": {},
   "source": [
    "## 6.\n",
    "\n",
    "#### Mise en place de l'expérience permettant d'évaluer la diversité de k tirages"
   ]
  },
  {
   "cell_type": "markdown",
   "metadata": {},
   "source": [
    "Pour évaluer la diversité des patterns extraits par nos algorithmes nous avons trouvé le 'Jaccard similarity coefficient', celui-ci permet de jauger la similiarité et la diversité entre deux sets.\n",
    "\n",
    "Nous allons donc calculer le coefficient de similarité entre un tirage et le suivant afin de vérifier qu'ils ne soient pas trop similaires.\n",
    "\n",
    "L'index de Jaccard se calcule simplement de cette manière : |intersection| / |union|.\n",
    "Nous avons donc implémenter une fonction qui applique cette formule entre 2 patterns, nous l'appellons entre tous les patterns extraits et renvoyons la moyenne de tous les indices ainsi récoltés.\n",
    "\n",
    "Plus la valeur obtenue est basse et moins les patterns extraits sont similaires.\n",
    "Nous obtenons des valeurs entre .1 et .2 pour tous les datasets, ce qui tend à montrer que les algorithmes permettent d'extraire des patterns fréquents avec une bonne diversité, grantissant ainsi l'intérêt des patterns extraits."
   ]
  },
  {
   "cell_type": "code",
   "execution_count": 172,
   "metadata": {},
   "outputs": [],
   "source": [
    "def jaccard_index(p_1, p_2):\n",
    "    intersection = len(p_1.intersection(p_2))\n",
    "    union = len(p_1) + len(p_2) - intersection\n",
    "    return 1. if union == 0 else intersection / union\n",
    "\n",
    "def avg_jaccard_index(patterns):\n",
    "    j_index = .0\n",
    "    nb = .0\n",
    "    for i in range(len(patterns) - 1):\n",
    "        for j in range(i + 1, len(patterns)):\n",
    "            j_index += custom_jaccard(set(patterns[i]), set(patterns[j]))\n",
    "            nb += 1.\n",
    "    return j_index / nb"
   ]
  },
  {
   "cell_type": "code",
   "execution_count": 173,
   "metadata": {},
   "outputs": [
    {
     "name": "stdout",
     "output_type": "stream",
     "text": [
      "Moyenne des indices de Jaccard, dataset chess : 0.22533046757324557\n",
      "Moyenne des indices de Jaccard, dataset chess : 0.22667274230633674\n",
      "Moyenne des indices de Jaccard, dataset chess : 0.13941463281926428\n",
      "Moyenne des indices de Jaccard, dataset chess : 0.16456875298411594\n",
      "Moyenne des indices de Jaccard, dataset chess : 0.11359721786740264\n"
     ]
    }
   ],
   "source": [
    "print('Moyenne des indices de Jaccard, dataset chess : ' + str(avg_jaccard_index(sampled_patterns_freq['chess'])))\n",
    "print('Moyenne des indices de Jaccard, dataset chess : ' + str(avg_jaccard_index(sampled_patterns_freq['connect'])))\n",
    "print('Moyenne des indices de Jaccard, dataset chess : ' + str(avg_jaccard_index(sampled_patterns_freq['mushroom'])))\n",
    "print('Moyenne des indices de Jaccard, dataset chess : ' + str(avg_jaccard_index(sampled_patterns_freq['pumsb'])))\n",
    "print('Moyenne des indices de Jaccard, dataset chess : ' + str(avg_jaccard_index(sampled_patterns_freq['pumsb_star'])))"
   ]
  },
  {
   "cell_type": "markdown",
   "metadata": {},
   "source": [
    "## 7.\n",
    "\n",
    "#### Mise en place de l'expérience permettant de mettre en évidence que la probabilité d'un motif d'être tiré est proportionnelle à sa mesure\n",
    "\n",
    "Affichage d'un scatter plot entre fréquence de tirage et fréquence au sein du dataset"
   ]
  },
  {
   "cell_type": "code",
   "execution_count": 176,
   "metadata": {},
   "outputs": [
    {
     "data": {
      "text/plain": [
       "<matplotlib.collections.PathCollection at 0x7fa3430e7b50>"
      ]
     },
     "execution_count": 176,
     "metadata": {},
     "output_type": "execute_result"
    },
    {
     "data": {
      "image/png": "[encoded data removed]",
      "text/plain": [
       "<Figure size 432x288 with 1 Axes>"
      ]
     },
     "metadata": {
      "needs_background": "light"
     },
     "output_type": "display_data"
    }
   ],
   "source": [
    "p_df = {}\n",
    "\n",
    "for pattern in sampled_patterns_freq['small']:\n",
    "    if pattern not in p_df:\n",
    "        p_df[pattern] = 0\n",
    "    else:\n",
    "        p_df[pattern] += 1\n",
    "\n",
    "p_f = patterns_freq(sampled_patterns_freq['small'], datasets['small'])\n",
    "\n",
    "df = []\n",
    "f = []\n",
    "for i in p_df.items():\n",
    "    df.append(i[1])\n",
    "    f.append(p_f[i[0]])\n",
    "\n",
    "plt.scatter(df, f)"
   ]
  },
  {
   "cell_type": "code",
   "execution_count": null,
   "metadata": {
    "scrolled": true
   },
   "outputs": [],
   "source": []
  },
  {
   "cell_type": "markdown",
   "metadata": {},
   "source": [
    "## 8.\n",
    "\n",
    "#### Résolution du problème avec 'kosarak'\n",
    "\n",
    "Affichage des distributions sans aucune modification"
   ]
  },
  {
   "cell_type": "code",
   "execution_count": 111,
   "metadata": {},
   "outputs": [
    {
     "ename": "KeyboardInterrupt",
     "evalue": "",
     "output_type": "error",
     "traceback": [
      "\u001b[0;31m---------------------------------------------------------------------------\u001b[0m",
      "\u001b[0;31mKeyboardInterrupt\u001b[0m                         Traceback (most recent call last)",
      "\u001b[0;32m<ipython-input-111-7317027d9c73>\u001b[0m in \u001b[0;36m<module>\u001b[0;34m\u001b[0m\n\u001b[0;32m----> 1\u001b[0;31m \u001b[0msampled_patterns_freq\u001b[0m\u001b[0;34m[\u001b[0m\u001b[0;34m'kosarak'\u001b[0m\u001b[0;34m]\u001b[0m \u001b[0;34m=\u001b[0m \u001b[0mfreq_sampling_k\u001b[0m\u001b[0;34m(\u001b[0m\u001b[0mdatasets\u001b[0m\u001b[0;34m[\u001b[0m\u001b[0;34m'kosarak'\u001b[0m\u001b[0;34m]\u001b[0m\u001b[0;34m,\u001b[0m \u001b[0;36m250\u001b[0m\u001b[0;34m)\u001b[0m\u001b[0;34m\u001b[0m\u001b[0;34m\u001b[0m\u001b[0m\n\u001b[0m\u001b[1;32m      2\u001b[0m \u001b[0mdisplay_distributions\u001b[0m\u001b[0;34m(\u001b[0m\u001b[0mlist\u001b[0m\u001b[0;34m(\u001b[0m\u001b[0mset\u001b[0m\u001b[0;34m(\u001b[0m\u001b[0msampled_patterns_freq\u001b[0m\u001b[0;34m[\u001b[0m\u001b[0;34m'kosarak'\u001b[0m\u001b[0;34m]\u001b[0m\u001b[0;34m)\u001b[0m\u001b[0;34m)\u001b[0m\u001b[0;34m,\u001b[0m \u001b[0;34m'kosarak'\u001b[0m\u001b[0;34m)\u001b[0m\u001b[0;34m\u001b[0m\u001b[0;34m\u001b[0m\u001b[0m\n",
      "\u001b[0;32m<ipython-input-107-b20a9f49213c>\u001b[0m in \u001b[0;36mfreq_sampling_k\u001b[0;34m(dataset, k)\u001b[0m\n\u001b[1;32m      9\u001b[0m     \u001b[0;31m#We create the weights out of the loop so it takes less time overall\u001b[0m\u001b[0;34m\u001b[0m\u001b[0;34m\u001b[0m\u001b[0;34m\u001b[0m\u001b[0m\n\u001b[1;32m     10\u001b[0m     \u001b[0mw\u001b[0m \u001b[0;34m=\u001b[0m \u001b[0;34m[\u001b[0m\u001b[0;36m2\u001b[0m\u001b[0;34m**\u001b[0m\u001b[0mabs\u001b[0m\u001b[0;34m(\u001b[0m\u001b[0mlen\u001b[0m\u001b[0;34m(\u001b[0m\u001b[0mmotif\u001b[0m\u001b[0;34m)\u001b[0m\u001b[0;34m)\u001b[0m \u001b[0;32mfor\u001b[0m \u001b[0mmotif\u001b[0m \u001b[0;32min\u001b[0m \u001b[0mdataset\u001b[0m\u001b[0;34m]\u001b[0m\u001b[0;31m#1.\u001b[0m\u001b[0;34m\u001b[0m\u001b[0;34m\u001b[0m\u001b[0m\n\u001b[0;32m---> 11\u001b[0;31m     \u001b[0mnormalised_w\u001b[0m \u001b[0;34m=\u001b[0m \u001b[0;34m[\u001b[0m\u001b[0mi\u001b[0m \u001b[0;34m/\u001b[0m \u001b[0msum\u001b[0m\u001b[0;34m(\u001b[0m\u001b[0mw\u001b[0m\u001b[0;34m)\u001b[0m \u001b[0;32mfor\u001b[0m \u001b[0mi\u001b[0m \u001b[0;32min\u001b[0m \u001b[0mw\u001b[0m\u001b[0;34m]\u001b[0m\u001b[0;34m\u001b[0m\u001b[0;34m\u001b[0m\u001b[0m\n\u001b[0m\u001b[1;32m     12\u001b[0m     \u001b[0mdone\u001b[0m \u001b[0;34m=\u001b[0m \u001b[0;32mFalse\u001b[0m\u001b[0;34m\u001b[0m\u001b[0;34m\u001b[0m\u001b[0m\n\u001b[1;32m     13\u001b[0m     \u001b[0;32mfor\u001b[0m \u001b[0m_\u001b[0m \u001b[0;32min\u001b[0m \u001b[0mrange\u001b[0m\u001b[0;34m(\u001b[0m\u001b[0mk\u001b[0m\u001b[0;34m)\u001b[0m\u001b[0;34m:\u001b[0m\u001b[0;34m\u001b[0m\u001b[0;34m\u001b[0m\u001b[0m\n",
      "\u001b[0;32m<ipython-input-107-b20a9f49213c>\u001b[0m in \u001b[0;36m<listcomp>\u001b[0;34m(.0)\u001b[0m\n\u001b[1;32m      9\u001b[0m     \u001b[0;31m#We create the weights out of the loop so it takes less time overall\u001b[0m\u001b[0;34m\u001b[0m\u001b[0;34m\u001b[0m\u001b[0;34m\u001b[0m\u001b[0m\n\u001b[1;32m     10\u001b[0m     \u001b[0mw\u001b[0m \u001b[0;34m=\u001b[0m \u001b[0;34m[\u001b[0m\u001b[0;36m2\u001b[0m\u001b[0;34m**\u001b[0m\u001b[0mabs\u001b[0m\u001b[0;34m(\u001b[0m\u001b[0mlen\u001b[0m\u001b[0;34m(\u001b[0m\u001b[0mmotif\u001b[0m\u001b[0;34m)\u001b[0m\u001b[0;34m)\u001b[0m \u001b[0;32mfor\u001b[0m \u001b[0mmotif\u001b[0m \u001b[0;32min\u001b[0m \u001b[0mdataset\u001b[0m\u001b[0;34m]\u001b[0m\u001b[0;31m#1.\u001b[0m\u001b[0;34m\u001b[0m\u001b[0;34m\u001b[0m\u001b[0m\n\u001b[0;32m---> 11\u001b[0;31m     \u001b[0mnormalised_w\u001b[0m \u001b[0;34m=\u001b[0m \u001b[0;34m[\u001b[0m\u001b[0mi\u001b[0m \u001b[0;34m/\u001b[0m \u001b[0msum\u001b[0m\u001b[0;34m(\u001b[0m\u001b[0mw\u001b[0m\u001b[0;34m)\u001b[0m \u001b[0;32mfor\u001b[0m \u001b[0mi\u001b[0m \u001b[0;32min\u001b[0m \u001b[0mw\u001b[0m\u001b[0;34m]\u001b[0m\u001b[0;34m\u001b[0m\u001b[0;34m\u001b[0m\u001b[0m\n\u001b[0m\u001b[1;32m     12\u001b[0m     \u001b[0mdone\u001b[0m \u001b[0;34m=\u001b[0m \u001b[0;32mFalse\u001b[0m\u001b[0;34m\u001b[0m\u001b[0;34m\u001b[0m\u001b[0m\n\u001b[1;32m     13\u001b[0m     \u001b[0;32mfor\u001b[0m \u001b[0m_\u001b[0m \u001b[0;32min\u001b[0m \u001b[0mrange\u001b[0m\u001b[0;34m(\u001b[0m\u001b[0mk\u001b[0m\u001b[0;34m)\u001b[0m\u001b[0;34m:\u001b[0m\u001b[0;34m\u001b[0m\u001b[0;34m\u001b[0m\u001b[0m\n",
      "\u001b[0;31mKeyboardInterrupt\u001b[0m: "
     ]
    }
   ],
   "source": [
    "sampled_patterns_freq['kosarak'] = freq_sampling_k(datasets['kosarak'], 250)\n",
    "display_distributions(list(set(sampled_patterns_freq['kosarak'])), 'kosarak')"
   ]
  },
  {
   "cell_type": "code",
   "execution_count": null,
   "metadata": {},
   "outputs": [],
   "source": [
    "sampled_patterns_area['kosarak'] = area_sampling_k(datasets['kosarak'], 250)\n",
    "display_distributions(list(set(sampled_patterns_area['kosarak'])), 'kosarak')"
   ]
  },
  {
   "cell_type": "code",
   "execution_count": null,
   "metadata": {},
   "outputs": [],
   "source": []
  },
  {
   "cell_type": "code",
   "execution_count": null,
   "metadata": {},
   "outputs": [],
   "source": []
  },
  {
   "cell_type": "code",
   "execution_count": null,
   "metadata": {},
   "outputs": [],
   "source": []
  },
  {
   "cell_type": "code",
   "execution_count": null,
   "metadata": {},
   "outputs": [],
   "source": []
  },
  {
   "cell_type": "code",
   "execution_count": null,
   "metadata": {},
   "outputs": [],
   "source": []
  },
  {
   "cell_type": "code",
   "execution_count": null,
   "metadata": {},
   "outputs": [],
   "source": []
  },
  {
   "cell_type": "code",
   "execution_count": null,
   "metadata": {},
   "outputs": [],
   "source": []
  },
  {
   "cell_type": "code",
   "execution_count": null,
   "metadata": {},
   "outputs": [],
   "source": []
  },
  {
   "cell_type": "code",
   "execution_count": null,
   "metadata": {},
   "outputs": [],
   "source": []
  },
  {
   "cell_type": "code",
   "execution_count": null,
   "metadata": {},
   "outputs": [],
   "source": []
  },
  {
   "cell_type": "code",
   "execution_count": null,
   "metadata": {},
   "outputs": [],
   "source": []
  },
  {
   "cell_type": "code",
   "execution_count": null,
   "metadata": {},
   "outputs": [],
   "source": []
  },
  {
   "cell_type": "code",
   "execution_count": null,
   "metadata": {},
   "outputs": [],
   "source": []
  },
  {
   "cell_type": "markdown",
   "metadata": {},
   "source": [
    "Implémentation de l'algorithme a-priori pour comparaison"
   ]
  },
  {
   "cell_type": "code",
   "execution_count": 14,
   "metadata": {},
   "outputs": [],
   "source": [
    "def a_priori(dataset, minsup):\n",
    "    flattened_dataset = [i for sublist in dataset for i in sublist]\n",
    "    c = [[[i] for i in sorted(list(set(flattened_dataset)))]]\n",
    "    f = []\n",
    "    i = 0\n",
    "    over = False\n",
    "    while not over:\n",
    "        f.append(evaluate(c[i], dataset, minsup))\n",
    "        ci = gen_candidates(f[i])\n",
    "        if len(ci) == 0:\n",
    "            over = True\n",
    "        else:\n",
    "            c.append(ci)\n",
    "            i += 1\n",
    "    return (c, f)\n",
    "\n",
    "def evaluate(ci, dataset, minsup):\n",
    "    fi = []\n",
    "    for candidate in ci:\n",
    "        count = 0\n",
    "        for line in dataset:\n",
    "            in_line = True\n",
    "            for attr in candidate:\n",
    "                if attr not in line:\n",
    "                    in_line = False\n",
    "                    break\n",
    "            count += in_line\n",
    "        if count >= minsup:\n",
    "            fi.append(candidate)\n",
    "    return fi\n",
    "\n",
    "def gen_candidates(fi):\n",
    "    ci = []\n",
    "    if len(fi) > 1:\n",
    "        for i in range(len(fi) - 1):\n",
    "            for j in range(i + 1, len(fi)):\n",
    "                if len(fi[i]) == 1:\n",
    "                    ci.append([fi[i][0], fi[j][0]])\n",
    "                else:\n",
    "                    if fi[i][1:] == fi[j][:-1]:\n",
    "                        cii = [fi[i][0]]\n",
    "                        cii.extend(fi[j])\n",
    "                        ci.append(cii)\n",
    "    return ci"
   ]
  },
  {
   "cell_type": "code",
   "execution_count": 15,
   "metadata": {},
   "outputs": [],
   "source": [
    "c, f = a_priori(datasets['small'], 3)"
   ]
  },
  {
   "cell_type": "code",
   "execution_count": 16,
   "metadata": {},
   "outputs": [
    {
     "name": "stdout",
     "output_type": "stream",
     "text": [
      "[[1], [2], [3], [4], [5], [6], [7], [9], [10], [16], [24], [65], [66], [78], [120]]\n",
      "[[1, 2], [1, 3], [1, 4], [1, 5], [1, 6], [1, 16], [1, 65], [2, 3], [2, 4], [2, 5], [2, 6], [2, 16], [2, 65], [3, 4], [3, 5], [3, 6], [3, 16], [3, 65], [4, 5], [4, 6], [4, 16], [4, 65], [5, 6], [5, 16], [5, 65], [6, 16], [6, 65], [16, 65]]\n",
      "[[1, 3, 4], [1, 3, 5], [1, 3, 6], [1, 3, 16], [1, 3, 65], [1, 4, 5], [1, 4, 6], [1, 4, 16], [1, 16, 65], [3, 4, 5], [3, 4, 6], [3, 4, 16], [3, 5, 6], [3, 16, 65], [4, 5, 6], [4, 16, 65]]\n",
      "[[1, 3, 4, 5], [1, 3, 4, 6], [1, 3, 16, 65], [3, 4, 5, 6]]\n"
     ]
    }
   ],
   "source": [
    "for cand in c:\n",
    "    print(cand)"
   ]
  },
  {
   "cell_type": "code",
   "execution_count": 17,
   "metadata": {},
   "outputs": [
    {
     "name": "stdout",
     "output_type": "stream",
     "text": [
      "[[1], [2], [3], [4], [5], [6], [16], [65]]\n",
      "[[1, 3], [1, 4], [1, 16], [1, 65], [3, 4], [3, 5], [3, 6], [3, 16], [3, 65], [4, 5], [4, 6], [4, 16], [5, 6], [16, 65]]\n",
      "[[1, 3, 4], [1, 3, 16], [1, 3, 65], [1, 16, 65], [3, 4, 5], [3, 4, 6], [3, 5, 6], [3, 16, 65], [4, 5, 6]]\n",
      "[[1, 3, 16, 65], [3, 4, 5, 6]]\n"
     ]
    }
   ],
   "source": [
    "for pattern in f:\n",
    "    print(pattern)"
   ]
  },
  {
   "cell_type": "code",
   "execution_count": null,
   "metadata": {},
   "outputs": [],
   "source": []
  },
  {
   "cell_type": "code",
   "execution_count": null,
   "metadata": {},
   "outputs": [],
   "source": []
  },
  {
   "cell_type": "code",
   "execution_count": null,
   "metadata": {},
   "outputs": [],
   "source": []
  },
  {
   "cell_type": "code",
   "execution_count": null,
   "metadata": {},
   "outputs": [],
   "source": []
  },
  {
   "cell_type": "code",
   "execution_count": null,
   "metadata": {},
   "outputs": [],
   "source": []
  },
  {
   "cell_type": "code",
   "execution_count": null,
   "metadata": {},
   "outputs": [],
   "source": []
  },
  {
   "cell_type": "code",
   "execution_count": null,
   "metadata": {},
   "outputs": [],
   "source": []
  },
  {
   "cell_type": "code",
   "execution_count": null,
   "metadata": {},
   "outputs": [],
   "source": []
  },
  {
   "cell_type": "code",
   "execution_count": null,
   "metadata": {},
   "outputs": [],
   "source": []
  },
  {
   "cell_type": "code",
   "execution_count": null,
   "metadata": {},
   "outputs": [],
   "source": []
  },
  {
   "cell_type": "code",
   "execution_count": null,
   "metadata": {},
   "outputs": [],
   "source": []
  },
  {
   "cell_type": "code",
   "execution_count": null,
   "metadata": {},
   "outputs": [],
   "source": []
  }
 ],
 "metadata": {
  "kernelspec": {
   "display_name": "Python 3",
   "language": "python",
   "name": "python3"
  },
  "language_info": {
   "codemirror_mode": {
    "name": "ipython",
    "version": 3
   },
   "file_extension": ".py",
   "mimetype": "text/x-python",
   "name": "python",
   "nbconvert_exporter": "python",
   "pygments_lexer": "ipython3",
   "version": "3.7.4"
  }
 },
 "nbformat": 4,
 "nbformat_minor": 2
}
